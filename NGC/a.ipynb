{
 "cells": [
  {
   "cell_type": "code",
   "execution_count": 5,
   "metadata": {},
   "outputs": [],
   "source": [
    "import pandas as pd"
   ]
  },
  {
   "cell_type": "code",
   "execution_count": 11,
   "metadata": {},
   "outputs": [
    {
     "name": "stdout",
     "output_type": "stream",
     "text": [
      "IC - NGC\n",
      "Name\n",
      "Messier\n",
      "NGC\n",
      "IC\n",
      "Object Type abrev.\n",
      "Object type\n",
      "ra\n",
      "dec\n",
      "Constellation\n",
      "Major axis\n",
      "Minor axis\n",
      "Position angle\n",
      "b_mag\n",
      "v_mag\n",
      "j_mag\n",
      "h_mag\n",
      "k_mag\n",
      "Surface Brigthness\n",
      "Hubble (only Galaxies)\n",
      "Cstar U-Mag (only Planetary Nebulae)\n",
      "Cstar B-Mag (only Planetary Nebulae)\n",
      "Cstar V-Mag (only Planetary Nebulae)\n",
      "Cstar Names (only Planetary Nebulae)\n",
      "identifiers\n",
      "common_names\n",
      "ned_notes\n",
      "openngc_notes\n",
      "Image\n"
     ]
    }
   ],
   "source": [
    "df = pd.read_csv('data.csv', delimiter=';')\n",
    "for column in df.columns:\n",
    "    print(column)"
   ]
  }
 ],
 "metadata": {
  "kernelspec": {
   "display_name": "Python 3",
   "language": "python",
   "name": "python3"
  },
  "language_info": {
   "codemirror_mode": {
    "name": "ipython",
    "version": 3
   },
   "file_extension": ".py",
   "mimetype": "text/x-python",
   "name": "python",
   "nbconvert_exporter": "python",
   "pygments_lexer": "ipython3",
   "version": "3.11.4"
  }
 },
 "nbformat": 4,
 "nbformat_minor": 2
}
